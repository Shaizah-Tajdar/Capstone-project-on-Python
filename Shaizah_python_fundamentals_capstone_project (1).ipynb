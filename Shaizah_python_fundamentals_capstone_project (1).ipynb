{
 "cells": [
  {
   "cell_type": "markdown",
   "id": "9375e4c8-84cc-4f66-953b-f95cb7968c27",
   "metadata": {},
   "source": [
    "****PYTHON FUNDAMENTALS CAPSTONE****"
   ]
  },
  {
   "cell_type": "code",
   "execution_count": 1,
   "id": "32c9a2bb-55f2-487d-b26e-2a913bb5b59d",
   "metadata": {},
   "outputs": [],
   "source": [
    "# importing basic libraries\n",
    "#import pandas library\n",
    "import pandas as pd\n",
    "#import numpy library\n",
    "import numpy as np"
   ]
  },
  {
   "cell_type": "markdown",
   "id": "b986ee07-20f3-49d4-9fe4-19b2db4dce79",
   "metadata": {},
   "source": [
    "**Task_1 :** There are three different tables as given above. Please make three dataframe in python and save them as three .csv files. From Task 2 to Task 10, use the saved .csv files only"
   ]
  },
  {
   "cell_type": "code",
   "execution_count": 2,
   "id": "4827f270-043c-4447-b6a2-3640fa1f66b9",
   "metadata": {},
   "outputs": [
    {
     "name": "stdout",
     "output_type": "stream",
     "text": [
      "      ID     Project       Cost    Status\n",
      "0   A001   Project 1  1002000.0  Finished\n",
      "1   A002   Project 2  2000000.0   Ongoing\n",
      "2   A003   Project 3  4500000.0  Finished\n",
      "3   A004   Project 4  5500000.0   Ongoing\n",
      "4   A005   Project 5        NaN  Finished\n",
      "5   A002   Project 6   680000.0    Failed\n",
      "6   A005   Project 7   400000.0  Finished\n",
      "7   A003   Project 8   350000.0    Failed\n",
      "8   A001   Project 9        NaN   Ongoing\n",
      "9   A003  Project 10   300000.0  Finished\n",
      "10  A001  Project 11  2000000.0    Failed\n",
      "11  A004  Project 12  1000000.0   Ongoing\n",
      "12  A004  Project 13  3000000.0  Finished\n",
      "13  A005  Project 14   200000.0  Finished\n"
     ]
    }
   ],
   "source": [
    "# creation of project dataframe\n",
    "project_data = {\n",
    "    'ID': ['A001', 'A002', 'A003', 'A004', 'A005', 'A002', 'A005', 'A003', 'A001', 'A003', 'A001', 'A004', 'A004', 'A005'],\n",
    "    'Project': ['Project 1', 'Project 2', 'Project 3', 'Project 4', 'Project 5', 'Project 6', 'Project 7', 'Project 8', 'Project 9', 'Project 10', 'Project 11', 'Project 12', 'Project 13', 'Project 14'],\n",
    "    'Cost': [1002000, 2000000, 4500000, 5500000, None, 680000, 400000, 350000, None, 300000, 2000000, 1000000, 3000000, 200000],\n",
    "    'Status': ['Finished', 'Ongoing', 'Finished', 'Ongoing', 'Finished', 'Failed', 'Finished', 'Failed', 'Ongoing', 'Finished', 'Failed', 'Ongoing', 'Finished', 'Finished']\n",
    "}\n",
    "\n",
    "# Creating the DataFrame\n",
    "df_project= pd.DataFrame(project_data)\n",
    "\n",
    "#printing dataframe\n",
    "print(df_project)"
   ]
  },
  {
   "cell_type": "code",
   "execution_count": 3,
   "id": "5af16318-911d-4fba-acd2-513ad5d1f3fe",
   "metadata": {},
   "outputs": [
    {
     "name": "stdout",
     "output_type": "stream",
     "text": [
      "CSV file created successfully.\n"
     ]
    }
   ],
   "source": [
    "# Converting to CSV\n",
    "df_project.to_csv('project_data.csv', index=False)\n",
    "\n",
    "#printing output if successful\n",
    "print(\"CSV file created successfully.\")"
   ]
  },
  {
   "cell_type": "code",
   "execution_count": 4,
   "id": "c2dfd6aa-acf4-4c14-bd1b-0f6668bbcf20",
   "metadata": {},
   "outputs": [
    {
     "name": "stdout",
     "output_type": "stream",
     "text": [
      "     ID             Name Gender     City  Age\n",
      "0  A001       John Alter      M    Paris   25\n",
      "1  A002  Alice Luxumberg      F   London   27\n",
      "2  A003    Tom Sabestine      M   Berlin   29\n",
      "3  A004       Nina Adgra      F  Newyork   31\n",
      "4  A005        Amy Johny      F   Madrid   30\n"
     ]
    }
   ],
   "source": [
    "# creation of employee dataframe\n",
    "employee_data = {\n",
    "    'ID': ['A001', 'A002', 'A003', 'A004', 'A005'],\n",
    "    'Name': ['John Alter', 'Alice Luxumberg', 'Tom Sabestine', 'Nina Adgra', 'Amy Johny'],\n",
    "    'Gender': ['M', 'F', 'M', 'F', 'F'],\n",
    "    'City': ['Paris', 'London', 'Berlin', 'Newyork', 'Madrid'],\n",
    "    'Age': [25, 27, 29, 31, 30]\n",
    "}\n",
    "\n",
    "# Creating DataFrame\n",
    "df_employee = pd.DataFrame(employee_data)\n",
    "#printing dataframe\n",
    "print(df_employee)"
   ]
  },
  {
   "cell_type": "code",
   "execution_count": 5,
   "id": "2709af8f-dd92-4267-9aff-ff28f1c14482",
   "metadata": {},
   "outputs": [
    {
     "name": "stdout",
     "output_type": "stream",
     "text": [
      "CSV file created successfully.\n"
     ]
    }
   ],
   "source": [
    "# Converting employee dataframe to CSV\n",
    "df_employee.to_csv('employee_data.csv', index=False)\n",
    "\n",
    "#printing outcome if successful\n",
    "print(\"CSV file created successfully.\")"
   ]
  },
  {
   "cell_type": "code",
   "execution_count": 6,
   "id": "486a5e10-61d5-495c-8276-7f0e713189a6",
   "metadata": {},
   "outputs": [
    {
     "name": "stdout",
     "output_type": "stream",
     "text": [
      "     ID  Designation Level\n",
      "0  A001                  2\n",
      "1  A002                  2\n",
      "2  A003                  3\n",
      "3  A004                  2\n",
      "4  A005                  3\n"
     ]
    }
   ],
   "source": [
    "#creation of seniority level dataframe\n",
    "seniority_level_data = {\n",
    "    'ID': ['A001', 'A002', 'A003', 'A004', 'A005'],\n",
    "    'Designation Level': [2, 2, 3, 2, 3]\n",
    "}\n",
    "\n",
    "# Creating DataFrame\n",
    "df_seniority = pd.DataFrame(seniority_level_data)\n",
    "#printing dataframe\n",
    "print(df_seniority)"
   ]
  },
  {
   "cell_type": "code",
   "execution_count": 7,
   "id": "8e808419-e28a-404b-b4e2-1a4b68584eaa",
   "metadata": {},
   "outputs": [
    {
     "name": "stdout",
     "output_type": "stream",
     "text": [
      "CSV file created successfully.\n"
     ]
    }
   ],
   "source": [
    "# Converting seniority level dataframe to CSV\n",
    "df_seniority.to_csv('seniority_level_data.csv', index=False)\n",
    "\n",
    "#printing dataframe if successfull\n",
    "print(\"CSV file created successfully.\")"
   ]
  },
  {
   "cell_type": "markdown",
   "id": "d0e69d07-8910-4ff5-bc06-496d7202ed9e",
   "metadata": {},
   "source": [
    "**Task_2 :** The cost column in the dataframe “Project” has some missing values.\n",
    "Your task is to compute these missing values. Replace the missing values by running average. \n",
    "You should use the “For” loop for this task."
   ]
  },
  {
   "cell_type": "code",
   "execution_count": 8,
   "id": "6a49a778-474f-4731-89a1-9047fce7f5d0",
   "metadata": {},
   "outputs": [
    {
     "name": "stdout",
     "output_type": "stream",
     "text": [
      "      ID     Project       Cost    Status\n",
      "0   A001   Project 1  1002000.0  Finished\n",
      "1   A002   Project 2  2000000.0   Ongoing\n",
      "2   A003   Project 3  4500000.0  Finished\n",
      "3   A004   Project 4  5500000.0   Ongoing\n",
      "4   A005   Project 5        NaN  Finished\n",
      "5   A002   Project 6   680000.0    Failed\n",
      "6   A005   Project 7   400000.0  Finished\n",
      "7   A003   Project 8   350000.0    Failed\n",
      "8   A001   Project 9        NaN   Ongoing\n",
      "9   A003  Project 10   300000.0  Finished\n",
      "10  A001  Project 11  2000000.0    Failed\n",
      "11  A004  Project 12  1000000.0   Ongoing\n",
      "12  A004  Project 13  3000000.0  Finished\n",
      "13  A005  Project 14   200000.0  Finished\n"
     ]
    }
   ],
   "source": [
    "#importing project.csv created from the first task\n",
    "df_pr=pd.read_csv('project_data.csv')\n",
    "#printing dataframe\n",
    "print(df_pr)"
   ]
  },
  {
   "cell_type": "code",
   "execution_count": 9,
   "id": "42be19be-b4d5-43b6-a943-223bcb029c8a",
   "metadata": {},
   "outputs": [
    {
     "data": {
      "text/plain": [
       "dtype('float64')"
      ]
     },
     "execution_count": 9,
     "metadata": {},
     "output_type": "execute_result"
    }
   ],
   "source": [
    "# we have to calculate average, hence checking if Cost column is numeric data type\n",
    "df_pr[\"Cost\"].dtypes"
   ]
  },
  {
   "cell_type": "markdown",
   "id": "506e4e88-fc8b-47f8-9df2-70b296b154a9",
   "metadata": {},
   "source": [
    "we can see dtype if float64 and is numeric and can be used to calculate average"
   ]
  },
  {
   "cell_type": "code",
   "execution_count": 10,
   "id": "223d387b-8894-49de-a8d8-a576fca3f145",
   "metadata": {},
   "outputs": [
    {
     "name": "stdout",
     "output_type": "stream",
     "text": [
      "      ID     Project       Cost    Status\n",
      "0   A001   Project 1  1002000.0  Finished\n",
      "1   A002   Project 2  2000000.0   Ongoing\n",
      "2   A003   Project 3  4500000.0  Finished\n",
      "3   A004   Project 4  5500000.0   Ongoing\n",
      "4   A005   Project 5  3250500.0  Finished\n",
      "5   A002   Project 6   680000.0    Failed\n",
      "6   A005   Project 7   400000.0  Finished\n",
      "7   A003   Project 8   350000.0    Failed\n",
      "8   A001   Project 9  2210312.5   Ongoing\n",
      "9   A003  Project 10   300000.0  Finished\n",
      "10  A001  Project 11  2000000.0    Failed\n",
      "11  A004  Project 12  1000000.0   Ongoing\n",
      "12  A004  Project 13  3000000.0  Finished\n",
      "13  A005  Project 14   200000.0  Finished\n"
     ]
    }
   ],
   "source": [
    "# Iterate through the dataframe to compute running average for missing values\n",
    "for i in range(len(df_pr)):\n",
    "    #calculate running average only if cost is missing\n",
    "    if pd.isna(df_pr.loc[i, 'Cost']):\n",
    "        # Calculate the running average excluding the current missing value\n",
    "        running_avg = np.nanmean(df_pr['Cost'][:i])\n",
    "        # replace null value with running average\n",
    "        df_pr.loc[i, 'Cost'] = running_avg\n",
    "\n",
    "print(df_pr)"
   ]
  },
  {
   "cell_type": "markdown",
   "id": "16e50059-8656-49e5-b397-35cf9212f11a",
   "metadata": {},
   "source": [
    "We can see that the missing values have been replaced with running average. For loop and numpy function have been used to do so.\n",
    "Please note wherever missing value is present it has been replaced with running average, the first running average value calculated has been included in computing the running average of the next missing value."
   ]
  },
  {
   "cell_type": "code",
   "execution_count": 11,
   "id": "14153812-ccd3-422a-a5ee-6d13c2ec0ead",
   "metadata": {},
   "outputs": [],
   "source": [
    "#we will save a new csv with missing values replaced for future steps.\n",
    "df_pr.to_csv(\"project_data.csv\")"
   ]
  },
  {
   "cell_type": "markdown",
   "id": "4f1e6492-e80e-426f-adf6-ebde39c4c20c",
   "metadata": {},
   "source": [
    "**Task 3 :** Split the name column in the Employee dataframe into two new columns “First Name”,and “LastName” and remove the older “name” column."
   ]
  },
  {
   "cell_type": "code",
   "execution_count": 12,
   "id": "ed1e65cd-46db-4ffc-9fb6-1813d88b54c1",
   "metadata": {},
   "outputs": [
    {
     "name": "stdout",
     "output_type": "stream",
     "text": [
      "Updated DataFrame:\n",
      "     ID Gender     City  Age First Name  Last Name\n",
      "0  A001      M    Paris   25       John      Alter\n",
      "1  A002      F   London   27      Alice  Luxumberg\n",
      "2  A003      M   Berlin   29        Tom  Sabestine\n",
      "3  A004      F  Newyork   31       Nina      Adgra\n",
      "4  A005      F   Madrid   30        Amy      Johny\n"
     ]
    }
   ],
   "source": [
    "#reading csv file\n",
    "df_emp = pd.read_csv('employee_data.csv')\n",
    "\n",
    "# Splitting the \"Name\" column into \"First Name\" and \"Last Name\"\n",
    "df_emp[['First Name', 'Last Name']] = df_emp['Name'].str.split(' ', n=1, expand=True)\n",
    "\n",
    "# Dropping the original \"Name\" column\n",
    "df_emp.drop(columns=['Name'], inplace=True)\n",
    "\n",
    "# Displaying heading for table to be displayed later\n",
    "print(\"Updated DataFrame:\")\n",
    "# Displaying the updated DataFrame with values\n",
    "print(df_emp)"
   ]
  },
  {
   "cell_type": "code",
   "execution_count": 13,
   "id": "892d0fc6-47b4-4653-b188-994fad4a45bc",
   "metadata": {},
   "outputs": [],
   "source": [
    "#updating the csv file for future tasks.\n",
    "df_emp.to_csv('employee_data.csv')"
   ]
  },
  {
   "cell_type": "markdown",
   "id": "a8ec0233-d2f2-4337-863c-e007fc92bfe1",
   "metadata": {},
   "source": [
    "**Task 4:** Join all three dataframes in one single dataframe. Name it “Final”"
   ]
  },
  {
   "cell_type": "code",
   "execution_count": 14,
   "id": "306d447a-0cc3-45ed-981a-4e96e084e2de",
   "metadata": {},
   "outputs": [
    {
     "name": "stdout",
     "output_type": "stream",
     "text": [
      "Final DataFrame:\n",
      "      ID     Project       Cost    Status Gender     City  Age First Name  \\\n",
      "0   A001   Project 1  1002000.0  Finished      M    Paris   25       John   \n",
      "1   A002   Project 2  2000000.0   Ongoing      F   London   27      Alice   \n",
      "2   A003   Project 3  4500000.0  Finished      M   Berlin   29        Tom   \n",
      "3   A004   Project 4  5500000.0   Ongoing      F  Newyork   31       Nina   \n",
      "4   A005   Project 5  3250500.0  Finished      F   Madrid   30        Amy   \n",
      "5   A002   Project 6   680000.0    Failed      F   London   27      Alice   \n",
      "6   A005   Project 7   400000.0  Finished      F   Madrid   30        Amy   \n",
      "7   A003   Project 8   350000.0    Failed      M   Berlin   29        Tom   \n",
      "8   A001   Project 9  2210312.5   Ongoing      M    Paris   25       John   \n",
      "9   A003  Project 10   300000.0  Finished      M   Berlin   29        Tom   \n",
      "10  A001  Project 11  2000000.0    Failed      M    Paris   25       John   \n",
      "11  A004  Project 12  1000000.0   Ongoing      F  Newyork   31       Nina   \n",
      "12  A004  Project 13  3000000.0  Finished      F  Newyork   31       Nina   \n",
      "13  A005  Project 14   200000.0  Finished      F   Madrid   30        Amy   \n",
      "\n",
      "    Last Name  Designation Level  \n",
      "0       Alter                  2  \n",
      "1   Luxumberg                  2  \n",
      "2   Sabestine                  3  \n",
      "3       Adgra                  2  \n",
      "4       Johny                  3  \n",
      "5   Luxumberg                  2  \n",
      "6       Johny                  3  \n",
      "7   Sabestine                  3  \n",
      "8       Alter                  2  \n",
      "9   Sabestine                  3  \n",
      "10      Alter                  2  \n",
      "11      Adgra                  2  \n",
      "12      Adgra                  2  \n",
      "13      Johny                  3  \n"
     ]
    }
   ],
   "source": [
    "#read updated csv files\n",
    "#read project file\n",
    "df_project = pd.read_csv('project_data.csv',index_col=0)\n",
    "#read employee file\n",
    "df_employee = pd.read_csv('employee_data.csv',index_col=0)\n",
    "#read seniority level file\n",
    "df_seniority_level = pd.read_csv('seniority_level_data.csv',index_col=0)\n",
    "\n",
    "# Merging the DataFrames\n",
    "\n",
    "#merging project and employee dataframes\n",
    "Final = pd.merge(df_project, df_employee, on='ID')\n",
    "#merging seniority level dataframe to the created dataframe from merging above\n",
    "Final = pd.merge(Final, df_seniority_level, on='ID')\n",
    "\n",
    "#printing heading\n",
    "print(\"Final DataFrame:\")\n",
    "\n",
    "#printing outcome of created dataframe\n",
    "print(Final)"
   ]
  },
  {
   "cell_type": "code",
   "execution_count": 15,
   "id": "62070f34-957f-4a0e-aa9a-0ed07353e22f",
   "metadata": {},
   "outputs": [
    {
     "data": {
      "text/html": [
       "<div>\n",
       "<style scoped>\n",
       "    .dataframe tbody tr th:only-of-type {\n",
       "        vertical-align: middle;\n",
       "    }\n",
       "\n",
       "    .dataframe tbody tr th {\n",
       "        vertical-align: top;\n",
       "    }\n",
       "\n",
       "    .dataframe thead th {\n",
       "        text-align: right;\n",
       "    }\n",
       "</style>\n",
       "<table border=\"1\" class=\"dataframe\">\n",
       "  <thead>\n",
       "    <tr style=\"text-align: right;\">\n",
       "      <th></th>\n",
       "      <th>ID</th>\n",
       "      <th>Project</th>\n",
       "      <th>Cost</th>\n",
       "      <th>Status</th>\n",
       "      <th>Gender</th>\n",
       "      <th>City</th>\n",
       "      <th>Age</th>\n",
       "      <th>First Name</th>\n",
       "      <th>Last Name</th>\n",
       "      <th>Designation Level</th>\n",
       "    </tr>\n",
       "  </thead>\n",
       "  <tbody>\n",
       "    <tr>\n",
       "      <th>0</th>\n",
       "      <td>A001</td>\n",
       "      <td>Project 1</td>\n",
       "      <td>1002000.0</td>\n",
       "      <td>Finished</td>\n",
       "      <td>M</td>\n",
       "      <td>Paris</td>\n",
       "      <td>25</td>\n",
       "      <td>John</td>\n",
       "      <td>Alter</td>\n",
       "      <td>2</td>\n",
       "    </tr>\n",
       "    <tr>\n",
       "      <th>1</th>\n",
       "      <td>A002</td>\n",
       "      <td>Project 2</td>\n",
       "      <td>2000000.0</td>\n",
       "      <td>Ongoing</td>\n",
       "      <td>F</td>\n",
       "      <td>London</td>\n",
       "      <td>27</td>\n",
       "      <td>Alice</td>\n",
       "      <td>Luxumberg</td>\n",
       "      <td>2</td>\n",
       "    </tr>\n",
       "    <tr>\n",
       "      <th>2</th>\n",
       "      <td>A003</td>\n",
       "      <td>Project 3</td>\n",
       "      <td>4500000.0</td>\n",
       "      <td>Finished</td>\n",
       "      <td>M</td>\n",
       "      <td>Berlin</td>\n",
       "      <td>29</td>\n",
       "      <td>Tom</td>\n",
       "      <td>Sabestine</td>\n",
       "      <td>3</td>\n",
       "    </tr>\n",
       "    <tr>\n",
       "      <th>3</th>\n",
       "      <td>A004</td>\n",
       "      <td>Project 4</td>\n",
       "      <td>5500000.0</td>\n",
       "      <td>Ongoing</td>\n",
       "      <td>F</td>\n",
       "      <td>Newyork</td>\n",
       "      <td>31</td>\n",
       "      <td>Nina</td>\n",
       "      <td>Adgra</td>\n",
       "      <td>2</td>\n",
       "    </tr>\n",
       "    <tr>\n",
       "      <th>4</th>\n",
       "      <td>A005</td>\n",
       "      <td>Project 5</td>\n",
       "      <td>3250500.0</td>\n",
       "      <td>Finished</td>\n",
       "      <td>F</td>\n",
       "      <td>Madrid</td>\n",
       "      <td>30</td>\n",
       "      <td>Amy</td>\n",
       "      <td>Johny</td>\n",
       "      <td>3</td>\n",
       "    </tr>\n",
       "  </tbody>\n",
       "</table>\n",
       "</div>"
      ],
      "text/plain": [
       "     ID    Project       Cost    Status Gender     City  Age First Name  \\\n",
       "0  A001  Project 1  1002000.0  Finished      M    Paris   25       John   \n",
       "1  A002  Project 2  2000000.0   Ongoing      F   London   27      Alice   \n",
       "2  A003  Project 3  4500000.0  Finished      M   Berlin   29        Tom   \n",
       "3  A004  Project 4  5500000.0   Ongoing      F  Newyork   31       Nina   \n",
       "4  A005  Project 5  3250500.0  Finished      F   Madrid   30        Amy   \n",
       "\n",
       "   Last Name  Designation Level  \n",
       "0      Alter                  2  \n",
       "1  Luxumberg                  2  \n",
       "2  Sabestine                  3  \n",
       "3      Adgra                  2  \n",
       "4      Johny                  3  "
      ]
     },
     "execution_count": 15,
     "metadata": {},
     "output_type": "execute_result"
    }
   ],
   "source": [
    "# we can see tables have been joined into a single table.\n",
    "#displaying head\n",
    "Final.head()"
   ]
  },
  {
   "cell_type": "markdown",
   "id": "cbabcb1f-2e12-4ee9-a6aa-c6a22238abc9",
   "metadata": {},
   "source": [
    "**Task 5 :** Add a new bonus column in the Final dataframe. Give a 5% bonus concerning project \n",
    "cost only to employees who have finished the projects. "
   ]
  },
  {
   "cell_type": "code",
   "execution_count": 16,
   "id": "e886731f-d721-424b-b5f9-d3c2083f8065",
   "metadata": {},
   "outputs": [
    {
     "name": "stdout",
     "output_type": "stream",
     "text": [
      "      ID     Project       Cost    Status Gender     City  Age First Name  \\\n",
      "0   A001   Project 1  1002000.0  Finished      M    Paris   25       John   \n",
      "1   A002   Project 2  2000000.0   Ongoing      F   London   27      Alice   \n",
      "2   A003   Project 3  4500000.0  Finished      M   Berlin   29        Tom   \n",
      "3   A004   Project 4  5500000.0   Ongoing      F  Newyork   31       Nina   \n",
      "4   A005   Project 5  3250500.0  Finished      F   Madrid   30        Amy   \n",
      "5   A002   Project 6   680000.0    Failed      F   London   27      Alice   \n",
      "6   A005   Project 7   400000.0  Finished      F   Madrid   30        Amy   \n",
      "7   A003   Project 8   350000.0    Failed      M   Berlin   29        Tom   \n",
      "8   A001   Project 9  2210312.5   Ongoing      M    Paris   25       John   \n",
      "9   A003  Project 10   300000.0  Finished      M   Berlin   29        Tom   \n",
      "10  A001  Project 11  2000000.0    Failed      M    Paris   25       John   \n",
      "11  A004  Project 12  1000000.0   Ongoing      F  Newyork   31       Nina   \n",
      "12  A004  Project 13  3000000.0  Finished      F  Newyork   31       Nina   \n",
      "13  A005  Project 14   200000.0  Finished      F   Madrid   30        Amy   \n",
      "\n",
      "    Last Name  Designation Level     Bonus  \n",
      "0       Alter                  2   50100.0  \n",
      "1   Luxumberg                  2       0.0  \n",
      "2   Sabestine                  3  225000.0  \n",
      "3       Adgra                  2       0.0  \n",
      "4       Johny                  3  162525.0  \n",
      "5   Luxumberg                  2       0.0  \n",
      "6       Johny                  3   20000.0  \n",
      "7   Sabestine                  3       0.0  \n",
      "8       Alter                  2       0.0  \n",
      "9   Sabestine                  3   15000.0  \n",
      "10      Alter                  2       0.0  \n",
      "11      Adgra                  2       0.0  \n",
      "12      Adgra                  2  150000.0  \n",
      "13      Johny                  3   10000.0  \n"
     ]
    }
   ],
   "source": [
    "# To calculate bonus based on project cost for employees who have finished the projects.\n",
    "\n",
    "# Create a new 'Bonus' column: 5% of project_cost if project is finished, else 0\n",
    "Final['Bonus'] = Final.apply(lambda row: 0.05 * row['Cost'] if row['Status'] == 'Finished' else 0,axis=1)\n",
    "#displaying output of updated dataframe\n",
    "print(Final)"
   ]
  },
  {
   "cell_type": "markdown",
   "id": "ad0313dd-3ab7-4d77-a3ff-372ccbdc0465",
   "metadata": {},
   "source": [
    "**Task 6 :** Demote the designation level by 1, whose projects have status “fail”. Delete the employees record whose designation level is above 4. "
   ]
  },
  {
   "cell_type": "code",
   "execution_count": 17,
   "id": "6ae38043-0053-484e-abe9-8c1d7a2ef1ef",
   "metadata": {},
   "outputs": [
    {
     "name": "stdout",
     "output_type": "stream",
     "text": [
      "      ID     Project       Cost    Status Gender     City  Age First Name  \\\n",
      "0   A001   Project 1  1002000.0  Finished      M    Paris   25       John   \n",
      "1   A002   Project 2  2000000.0   Ongoing      F   London   27      Alice   \n",
      "2   A003   Project 3  4500000.0  Finished      M   Berlin   29        Tom   \n",
      "3   A004   Project 4  5500000.0   Ongoing      F  Newyork   31       Nina   \n",
      "4   A005   Project 5  3250500.0  Finished      F   Madrid   30        Amy   \n",
      "5   A002   Project 6   680000.0    Failed      F   London   27      Alice   \n",
      "6   A005   Project 7   400000.0  Finished      F   Madrid   30        Amy   \n",
      "7   A003   Project 8   350000.0    Failed      M   Berlin   29        Tom   \n",
      "8   A001   Project 9  2210312.5   Ongoing      M    Paris   25       John   \n",
      "9   A003  Project 10   300000.0  Finished      M   Berlin   29        Tom   \n",
      "10  A001  Project 11  2000000.0    Failed      M    Paris   25       John   \n",
      "11  A004  Project 12  1000000.0   Ongoing      F  Newyork   31       Nina   \n",
      "12  A004  Project 13  3000000.0  Finished      F  Newyork   31       Nina   \n",
      "13  A005  Project 14   200000.0  Finished      F   Madrid   30        Amy   \n",
      "\n",
      "    Last Name  Designation Level     Bonus  \n",
      "0       Alter                  2   50100.0  \n",
      "1   Luxumberg                  2       0.0  \n",
      "2   Sabestine                  3  225000.0  \n",
      "3       Adgra                  2       0.0  \n",
      "4       Johny                  3  162525.0  \n",
      "5   Luxumberg                  3       0.0  \n",
      "6       Johny                  3   20000.0  \n",
      "7   Sabestine                  4       0.0  \n",
      "8       Alter                  2       0.0  \n",
      "9   Sabestine                  3   15000.0  \n",
      "10      Alter                  3       0.0  \n",
      "11      Adgra                  2       0.0  \n",
      "12      Adgra                  2  150000.0  \n",
      "13      Johny                  3   10000.0  \n"
     ]
    }
   ],
   "source": [
    "# Demoting the designation level by 1 for employees whose projects have status \"Failed\"\n",
    "Final.loc[Final['Status'] == 'Failed', 'Designation Level'] = Final.loc[Final['Status'] == 'Failed', 'Designation Level'] + 1\n",
    "#displaying output of updated dataframe\n",
    "print(Final)"
   ]
  },
  {
   "cell_type": "code",
   "execution_count": 18,
   "id": "346cacca-ea29-4cd1-950f-2a43336df7ef",
   "metadata": {},
   "outputs": [],
   "source": [
    "#we can see wherever Status is Failed, there Designation has increased by 1 as lower Designation indicated higher position \n",
    "#and hence for demotion Designation has been increased"
   ]
  },
  {
   "cell_type": "code",
   "execution_count": 19,
   "id": "fb8ea4de-dec3-4a0a-9d6d-75d5ff8685b5",
   "metadata": {},
   "outputs": [],
   "source": [
    "# Deleting records of employees whose designation level is above 4\n",
    "Final = Final[Final['Designation Level'] <= 4]"
   ]
  },
  {
   "cell_type": "code",
   "execution_count": 20,
   "id": "6fe31080-6b60-4e64-a5b8-82ae1b381a65",
   "metadata": {},
   "outputs": [
    {
     "name": "stdout",
     "output_type": "stream",
     "text": [
      "Updated DataFrame after demoting and deleting records:\n",
      "      ID     Project       Cost    Status Gender     City  Age First Name  \\\n",
      "0   A001   Project 1  1002000.0  Finished      M    Paris   25       John   \n",
      "1   A002   Project 2  2000000.0   Ongoing      F   London   27      Alice   \n",
      "2   A003   Project 3  4500000.0  Finished      M   Berlin   29        Tom   \n",
      "3   A004   Project 4  5500000.0   Ongoing      F  Newyork   31       Nina   \n",
      "4   A005   Project 5  3250500.0  Finished      F   Madrid   30        Amy   \n",
      "5   A002   Project 6   680000.0    Failed      F   London   27      Alice   \n",
      "6   A005   Project 7   400000.0  Finished      F   Madrid   30        Amy   \n",
      "7   A003   Project 8   350000.0    Failed      M   Berlin   29        Tom   \n",
      "8   A001   Project 9  2210312.5   Ongoing      M    Paris   25       John   \n",
      "9   A003  Project 10   300000.0  Finished      M   Berlin   29        Tom   \n",
      "10  A001  Project 11  2000000.0    Failed      M    Paris   25       John   \n",
      "11  A004  Project 12  1000000.0   Ongoing      F  Newyork   31       Nina   \n",
      "12  A004  Project 13  3000000.0  Finished      F  Newyork   31       Nina   \n",
      "13  A005  Project 14   200000.0  Finished      F   Madrid   30        Amy   \n",
      "\n",
      "    Last Name  Designation Level     Bonus  \n",
      "0       Alter                  2   50100.0  \n",
      "1   Luxumberg                  2       0.0  \n",
      "2   Sabestine                  3  225000.0  \n",
      "3       Adgra                  2       0.0  \n",
      "4       Johny                  3  162525.0  \n",
      "5   Luxumberg                  3       0.0  \n",
      "6       Johny                  3   20000.0  \n",
      "7   Sabestine                  4       0.0  \n",
      "8       Alter                  2       0.0  \n",
      "9   Sabestine                  3   15000.0  \n",
      "10      Alter                  3       0.0  \n",
      "11      Adgra                  2       0.0  \n",
      "12      Adgra                  2  150000.0  \n",
      "13      Johny                  3   10000.0  \n"
     ]
    }
   ],
   "source": [
    "# Displaying the updated dataframe\n",
    "print(\"Updated DataFrame after demoting and deleting records:\")\n",
    "#displaying output of updated dataframe\n",
    "print(Final)"
   ]
  },
  {
   "cell_type": "code",
   "execution_count": 21,
   "id": "a53b6cb2-348e-4748-a1f4-06d68184e375",
   "metadata": {},
   "outputs": [],
   "source": [
    "#none of the record has been deleted"
   ]
  },
  {
   "cell_type": "markdown",
   "id": "15da6ee5-436c-466d-9232-e319be60eec5",
   "metadata": {},
   "source": [
    "**Task 7 :** Add “Mr.” and “Mrs.” to the first name column and drop the gender column. "
   ]
  },
  {
   "cell_type": "code",
   "execution_count": 22,
   "id": "f8c4cb18-4b78-4938-98fa-bbb58b73728d",
   "metadata": {},
   "outputs": [
    {
     "name": "stdout",
     "output_type": "stream",
     "text": [
      "Updated Final DataFrame:\n",
      "      ID     Project       Cost    Status     City  Age  First Name  \\\n",
      "0   A001   Project 1  1002000.0  Finished    Paris   25    Mr. John   \n",
      "1   A002   Project 2  2000000.0   Ongoing   London   27  Mrs. Alice   \n",
      "2   A003   Project 3  4500000.0  Finished   Berlin   29     Mr. Tom   \n",
      "3   A004   Project 4  5500000.0   Ongoing  Newyork   31   Mrs. Nina   \n",
      "4   A005   Project 5  3250500.0  Finished   Madrid   30    Mrs. Amy   \n",
      "5   A002   Project 6   680000.0    Failed   London   27  Mrs. Alice   \n",
      "6   A005   Project 7   400000.0  Finished   Madrid   30    Mrs. Amy   \n",
      "7   A003   Project 8   350000.0    Failed   Berlin   29     Mr. Tom   \n",
      "8   A001   Project 9  2210312.5   Ongoing    Paris   25    Mr. John   \n",
      "9   A003  Project 10   300000.0  Finished   Berlin   29     Mr. Tom   \n",
      "10  A001  Project 11  2000000.0    Failed    Paris   25    Mr. John   \n",
      "11  A004  Project 12  1000000.0   Ongoing  Newyork   31   Mrs. Nina   \n",
      "12  A004  Project 13  3000000.0  Finished  Newyork   31   Mrs. Nina   \n",
      "13  A005  Project 14   200000.0  Finished   Madrid   30    Mrs. Amy   \n",
      "\n",
      "    Last Name  Designation Level     Bonus  \n",
      "0       Alter                  2   50100.0  \n",
      "1   Luxumberg                  2       0.0  \n",
      "2   Sabestine                  3  225000.0  \n",
      "3       Adgra                  2       0.0  \n",
      "4       Johny                  3  162525.0  \n",
      "5   Luxumberg                  3       0.0  \n",
      "6       Johny                  3   20000.0  \n",
      "7   Sabestine                  4       0.0  \n",
      "8       Alter                  2       0.0  \n",
      "9   Sabestine                  3   15000.0  \n",
      "10      Alter                  3       0.0  \n",
      "11      Adgra                  2       0.0  \n",
      "12      Adgra                  2  150000.0  \n",
      "13      Johny                  3   10000.0  \n"
     ]
    }
   ],
   "source": [
    "# Adding \"Mr.\" and \"Mrs.\" based on gender to the first name column\n",
    "Final['First Name'] = Final.apply(lambda row: 'Mr. ' + row['First Name'] if row['Gender'] == 'M' else 'Mrs. ' + row['First Name'], axis=1)\n",
    "\n",
    "# Dropping the \"Gender\" column\n",
    "Final.drop(columns=['Gender'], inplace=True)\n",
    "\n",
    "#Displaying heading for table to be displayed\n",
    "print(\"Updated Final DataFrame:\")\n",
    "# Displaying the updated final DataFrame\n",
    "print(Final)"
   ]
  },
  {
   "cell_type": "code",
   "execution_count": 23,
   "id": "2300d674-5571-4191-a2f2-8f8cd7f2b259",
   "metadata": {},
   "outputs": [],
   "source": [
    "#we can see Mr/Mrs has been added to the First Name and Gender column has been removed. "
   ]
  },
  {
   "cell_type": "markdown",
   "id": "620741b1-0590-4cd3-ae78-e5b7e7a89801",
   "metadata": {},
   "source": [
    "**Task 8 :** Promote designation level by 1 for the employees whose age is more than 29 years using IF condition. "
   ]
  },
  {
   "cell_type": "code",
   "execution_count": 24,
   "id": "74c79d9e-29ad-4309-97e5-ee4b10c0d6dc",
   "metadata": {},
   "outputs": [
    {
     "name": "stdout",
     "output_type": "stream",
     "text": [
      "Updated DataFrame with promoted designation level for employees above 29 years of age:\n",
      "      ID     Project       Cost    Status     City  Age  First Name  \\\n",
      "0   A001   Project 1  1002000.0  Finished    Paris   25    Mr. John   \n",
      "1   A002   Project 2  2000000.0   Ongoing   London   27  Mrs. Alice   \n",
      "2   A003   Project 3  4500000.0  Finished   Berlin   29     Mr. Tom   \n",
      "3   A004   Project 4  5500000.0   Ongoing  Newyork   31   Mrs. Nina   \n",
      "4   A005   Project 5  3250500.0  Finished   Madrid   30    Mrs. Amy   \n",
      "5   A002   Project 6   680000.0    Failed   London   27  Mrs. Alice   \n",
      "6   A005   Project 7   400000.0  Finished   Madrid   30    Mrs. Amy   \n",
      "7   A003   Project 8   350000.0    Failed   Berlin   29     Mr. Tom   \n",
      "8   A001   Project 9  2210312.5   Ongoing    Paris   25    Mr. John   \n",
      "9   A003  Project 10   300000.0  Finished   Berlin   29     Mr. Tom   \n",
      "10  A001  Project 11  2000000.0    Failed    Paris   25    Mr. John   \n",
      "11  A004  Project 12  1000000.0   Ongoing  Newyork   31   Mrs. Nina   \n",
      "12  A004  Project 13  3000000.0  Finished  Newyork   31   Mrs. Nina   \n",
      "13  A005  Project 14   200000.0  Finished   Madrid   30    Mrs. Amy   \n",
      "\n",
      "    Last Name  Designation Level     Bonus  \n",
      "0       Alter                  2   50100.0  \n",
      "1   Luxumberg                  2       0.0  \n",
      "2   Sabestine                  3  225000.0  \n",
      "3       Adgra                  1       0.0  \n",
      "4       Johny                  2  162525.0  \n",
      "5   Luxumberg                  3       0.0  \n",
      "6       Johny                  2   20000.0  \n",
      "7   Sabestine                  4       0.0  \n",
      "8       Alter                  2       0.0  \n",
      "9   Sabestine                  3   15000.0  \n",
      "10      Alter                  3       0.0  \n",
      "11      Adgra                  1       0.0  \n",
      "12      Adgra                  1  150000.0  \n",
      "13      Johny                  2   10000.0  \n"
     ]
    }
   ],
   "source": [
    "#iterating to check for all rows in dataframe\n",
    "for index, row in Final.iterrows():\n",
    "    # Checking if age is more than 29\n",
    "    if row['Age'] > 29:\n",
    "        # Promoting designation level by 1\n",
    "        Final.at[index, 'Designation Level'] -= 1\n",
    "\n",
    "#printing heading for the table to follow\n",
    "print(\"Updated DataFrame with promoted designation level for employees above 29 years of age:\")\n",
    "# Displaying the updated DataFrame\n",
    "print(Final)"
   ]
  },
  {
   "cell_type": "markdown",
   "id": "74ed3aa2-5686-4b85-b687-7a261885eb1f",
   "metadata": {},
   "source": [
    "**Task 9 :** Add the cost of all projects for each Employee and save it in new dataframe \n",
    "“TotalProjCost” with three columns ID, First Name, and Total cost "
   ]
  },
  {
   "cell_type": "code",
   "execution_count": 25,
   "id": "8dab30e0-1be2-4e37-9c35-e1eca9050363",
   "metadata": {},
   "outputs": [
    {
     "name": "stdout",
     "output_type": "stream",
     "text": [
      "DataFrame 'TotalProjCost' with total project cost for each employee:\n",
      "     ID  First Name  Total cost\n",
      "0  A001    Mr. John   5212312.5\n",
      "1  A002  Mrs. Alice   2680000.0\n",
      "2  A003     Mr. Tom   5150000.0\n",
      "3  A004   Mrs. Nina   9500000.0\n",
      "4  A005    Mrs. Amy   3850500.0\n"
     ]
    }
   ],
   "source": [
    "#Create a new tabe “TotalProjCost” with three columns ID, First Name, and Total cost \n",
    "\n",
    "# Grouping by ID and First Name, then sum the cost for each employee\n",
    "TotalProjCost = Final.groupby(['ID', 'First Name'])['Cost'].sum().reset_index()\n",
    "\n",
    "# Renaming the 'Cost' column to 'Total cost'\n",
    "TotalProjCost.rename(columns={'Cost': 'Total cost'}, inplace=True)\n",
    "\n",
    "# Displaying heading for table to follow\n",
    "print(\"DataFrame 'TotalProjCost' with total project cost for each employee:\")\n",
    "# Displaying the new DataFrame\n",
    "print(TotalProjCost)"
   ]
  },
  {
   "cell_type": "markdown",
   "id": "bc4a0dd8-712d-486a-9f40-44d8b29698d9",
   "metadata": {},
   "source": [
    "**Task 10:** Print all the employee details whose city name contains the letter “o” in it."
   ]
  },
  {
   "cell_type": "code",
   "execution_count": 26,
   "id": "950932b2-49af-4034-a0d8-b3f946aef972",
   "metadata": {},
   "outputs": [
    {
     "name": "stdout",
     "output_type": "stream",
     "text": [
      "Employee details whose city name contains the letter 'o':\n",
      "     ID Gender     City  Age First Name  Last Name\n",
      "1  A002      F   London   27      Alice  Luxumberg\n",
      "3  A004      F  Newyork   31       Nina      Adgra\n"
     ]
    }
   ],
   "source": [
    "# Filtering the DataFrame to select rows where the city name contains the letter \"o\"\n",
    "employees_with_o_city = df_employee[df_employee['City'].str.contains('o', case=False)]\n",
    "\n",
    "# displaying heading for table to follow\n",
    "print(\"Employee details whose city name contains the letter 'o':\")\n",
    "# Printing the details of employees with cities containing the letter \"o\"\n",
    "print(employees_with_o_city)"
   ]
  },
  {
   "cell_type": "code",
   "execution_count": 27,
   "id": "00fbfd38-3f19-4bea-a09b-fbff86b0f16e",
   "metadata": {},
   "outputs": [
    {
     "name": "stdout",
     "output_type": "stream",
     "text": [
      "     ID Gender     City  Age First Name  Last Name  Total cost\n",
      "0  A002      F   London   27      Alice  Luxumberg   2680000.0\n",
      "1  A004      F  Newyork   31       Nina      Adgra   9500000.0\n"
     ]
    }
   ],
   "source": [
    "#adding total cost to the details.\n",
    "\n",
    "employees_with_o_city = pd.merge(employees_with_o_city, TotalProjCost[[\"ID\",\"Total cost\"]], on='ID')\n",
    "#displaying the updated dataframe\n",
    "print(employees_with_o_city)"
   ]
  },
  {
   "cell_type": "code",
   "execution_count": 28,
   "id": "73040cd0-a51a-4b12-9a9b-aa29541ba784",
   "metadata": {},
   "outputs": [
    {
     "name": "stdout",
     "output_type": "stream",
     "text": [
      "      ID     Project       Cost    Status     City  Age  First Name  \\\n",
      "1   A002   Project 2  2000000.0   Ongoing   London   27  Mrs. Alice   \n",
      "3   A004   Project 4  5500000.0   Ongoing  Newyork   31   Mrs. Nina   \n",
      "5   A002   Project 6   680000.0    Failed   London   27  Mrs. Alice   \n",
      "11  A004  Project 12  1000000.0   Ongoing  Newyork   31   Mrs. Nina   \n",
      "12  A004  Project 13  3000000.0  Finished  Newyork   31   Mrs. Nina   \n",
      "\n",
      "    Last Name  Designation Level     Bonus  \n",
      "1   Luxumberg                  2       0.0  \n",
      "3       Adgra                  1       0.0  \n",
      "5   Luxumberg                  3       0.0  \n",
      "11      Adgra                  1       0.0  \n",
      "12      Adgra                  1  150000.0  \n"
     ]
    }
   ],
   "source": [
    "#Filtering more details from Final database\n",
    "employees_with_o_city = Final[Final['City'].str.contains('o', case=False)]\n",
    "#printing the output table\n",
    "print(employees_with_o_city)"
   ]
  }
 ],
 "metadata": {
  "kernelspec": {
   "display_name": "Python 3 (ipykernel)",
   "language": "python",
   "name": "python3"
  },
  "language_info": {
   "codemirror_mode": {
    "name": "ipython",
    "version": 3
   },
   "file_extension": ".py",
   "mimetype": "text/x-python",
   "name": "python",
   "nbconvert_exporter": "python",
   "pygments_lexer": "ipython3",
   "version": "3.12.7"
  }
 },
 "nbformat": 4,
 "nbformat_minor": 5
}
